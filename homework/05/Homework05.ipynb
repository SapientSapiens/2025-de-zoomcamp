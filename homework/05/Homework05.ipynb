{
 "cells": [
  {
   "cell_type": "code",
   "execution_count": 1,
   "id": "0110cc88-d5b1-42d4-b02a-30ed721a3998",
   "metadata": {},
   "outputs": [],
   "source": [
    "import pyspark\n",
    "from pyspark.sql import SparkSession\n",
    "from pyspark.sql import types"
   ]
  },
  {
   "cell_type": "code",
   "execution_count": 2,
   "id": "79aeda5c-564c-4f6f-8451-50c1dd76f9c7",
   "metadata": {},
   "outputs": [
    {
     "name": "stderr",
     "output_type": "stream",
     "text": [
      "Setting default log level to \"WARN\".\n",
      "To adjust logging level use sc.setLogLevel(newLevel). For SparkR, use setLogLevel(newLevel).\n"
     ]
    },
    {
     "name": "stdout",
     "output_type": "stream",
     "text": [
      "25/03/22 23:02:30 WARN NativeCodeLoader: Unable to load native-hadoop library for your platform... using builtin-java classes where applicable\n"
     ]
    }
   ],
   "source": [
    "spark = SparkSession.builder \\\n",
    "    .master(\"local[*]\") \\\n",
    "    .appName('homework05') \\\n",
    "    .getOrCreate()"
   ]
  },
  {
   "cell_type": "code",
   "execution_count": 3,
   "id": "a0b58c93-4f63-4b80-b6fb-4654df77ac1b",
   "metadata": {},
   "outputs": [
    {
     "data": {
      "text/plain": [
       "'3.3.2'"
      ]
     },
     "execution_count": 3,
     "metadata": {},
     "output_type": "execute_result"
    }
   ],
   "source": [
    "spark.version"
   ]
  },
  {
   "cell_type": "code",
   "execution_count": 10,
   "id": "90bbba37-0eb4-4df9-a42d-0474bc55354f",
   "metadata": {},
   "outputs": [
    {
     "name": "stdout",
     "output_type": "stream",
     "text": [
      "--2025-03-22 21:54:37--  https://d37ci6vzurychx.cloudfront.net/trip-data/yellow_tripdata_2024-10.parquet\n",
      "Resolving d37ci6vzurychx.cloudfront.net (d37ci6vzurychx.cloudfront.net)... 18.154.99.220, 18.154.99.47, 18.154.99.177, ...\n",
      "Connecting to d37ci6vzurychx.cloudfront.net (d37ci6vzurychx.cloudfront.net)|18.154.99.220|:443... connected.\n",
      "HTTP request sent, awaiting response... 200 OK\n",
      "Length: 64346071 (61M) [binary/octet-stream]\n",
      "Saving to: ‘yellow_tripdata_2024-10.parquet’\n",
      "\n",
      "yellow_tripdata_202 100%[===================>]  61.36M   270MB/s    in 0.2s    \n",
      "\n",
      "2025-03-22 21:54:38 (270 MB/s) - ‘yellow_tripdata_2024-10.parquet’ saved [64346071/64346071]\n",
      "\n"
     ]
    }
   ],
   "source": [
    "!wget https://d37ci6vzurychx.cloudfront.net/trip-data/yellow_tripdata_2024-10.parquet"
   ]
  },
  {
   "cell_type": "code",
   "execution_count": 4,
   "id": "6f20e64f-57df-4329-9288-0e8bae097a54",
   "metadata": {},
   "outputs": [
    {
     "name": "stdout",
     "output_type": "stream",
     "text": [
      "total 780M\n",
      "-rw-rw-r-- 1 sidd4ml sidd4ml 7.7K Mar 16 19:16 03_test.ipynb\n",
      "-rw-rw-r-- 1 sidd4ml sidd4ml  19K Mar 16 19:54 04_pyspark.ipynb\n",
      "-rw-rw-r-- 1 sidd4ml sidd4ml  22K Mar 16 21:49 04_pyspark_excercise.ipynb\n",
      "-rw-rw-r-- 1 sidd4ml sidd4ml  25K Mar 17 21:41 05_taxi_schema.ipynb\n",
      "-rw-rw-r-- 1 sidd4ml sidd4ml 8.7K Mar 17 21:53 06_spark_sql.ipynb\n",
      "-rw-rw-r-- 1 sidd4ml sidd4ml 2.5K Feb  6 19:58 06_spark_sql.py\n",
      "-rw-rw-r-- 1 sidd4ml sidd4ml 2.6K Feb  6 19:58 06_spark_sql_big_query.py\n",
      "-rw-rw-r-- 1 sidd4ml sidd4ml 7.6K Feb  6 19:58 07_groupby_join.ipynb\n",
      "-rw-rw-r-- 1 sidd4ml sidd4ml  12K Feb  6 19:58 08_rdds.ipynb\n",
      "-rw-rw-r-- 1 sidd4ml sidd4ml 4.3K Feb  6 19:58 09_spark_gcs.ipynb\n",
      "-rw-rw-r-- 1 sidd4ml sidd4ml  18K Mar 22 23:02 Homework05.ipynb\n",
      "-rw-rw-r-- 1 sidd4ml sidd4ml 3.0K Feb  6 19:58 cloud.md\n",
      "drwxrwxr-x 4 sidd4ml sidd4ml 4.0K Mar 17 21:36 data\n",
      "-rwxrwxr-x 1 sidd4ml sidd4ml  801 Mar 18 00:20 download_data.sh\n",
      "-rw-rw-r-- 1 sidd4ml sidd4ml 718M Jul 14  2022 fhvhv_tripdata_2021-01.csv\n",
      "-rw-rw-r-- 1 sidd4ml sidd4ml  62K Mar 16 21:44 for_pandas.csv\n",
      "-rw-rw-r-- 1 sidd4ml sidd4ml  17K Mar 22 21:46 homework.ipynb\n",
      "-rw-rw-r-- 1 sidd4ml sidd4ml  62M Dec 18 21:21 yellow_tripdata_2024-10.parquet\n"
     ]
    }
   ],
   "source": [
    "!ls -lh"
   ]
  },
  {
   "cell_type": "code",
   "execution_count": 5,
   "id": "1fb70930-109b-4f5a-a006-637fb3a41259",
   "metadata": {},
   "outputs": [
    {
     "name": "stdout",
     "output_type": "stream",
     "text": [
      "254534 yellow_tripdata_2024-10.parquet\n"
     ]
    }
   ],
   "source": [
    "!wc -l yellow_tripdata_2024-10.parquet"
   ]
  },
  {
   "cell_type": "code",
   "execution_count": 6,
   "id": "b58e3097-69fe-4786-ae51-59ebc289ee35",
   "metadata": {},
   "outputs": [],
   "source": [
    "df = spark.read\\\n",
    ".option(\"header\", \"true\") \\\n",
    ".parquet('yellow_tripdata_2024-10.parquet')"
   ]
  },
  {
   "cell_type": "code",
   "execution_count": 7,
   "id": "8cd62fc7-71c0-4e8a-8453-9b62cc3704f4",
   "metadata": {},
   "outputs": [
    {
     "data": {
      "text/plain": [
       "3833771"
      ]
     },
     "execution_count": 7,
     "metadata": {},
     "output_type": "execute_result"
    }
   ],
   "source": [
    "df.count()"
   ]
  },
  {
   "cell_type": "code",
   "execution_count": 8,
   "id": "1522141c-517c-4f7b-8071-0b2483886b03",
   "metadata": {},
   "outputs": [
    {
     "name": "stdout",
     "output_type": "stream",
     "text": [
      "+--------+--------------------+---------------------+---------------+-------------+----------+------------------+------------+------------+------------+-----------+-----+-------+----------+------------+---------------------+------------+--------------------+-----------+\n",
      "|VendorID|tpep_pickup_datetime|tpep_dropoff_datetime|passenger_count|trip_distance|RatecodeID|store_and_fwd_flag|PULocationID|DOLocationID|payment_type|fare_amount|extra|mta_tax|tip_amount|tolls_amount|improvement_surcharge|total_amount|congestion_surcharge|Airport_fee|\n",
      "+--------+--------------------+---------------------+---------------+-------------+----------+------------------+------------+------------+------------+-----------+-----+-------+----------+------------+---------------------+------------+--------------------+-----------+\n",
      "|       2| 2024-10-01 00:30:44|  2024-10-01 00:48:26|              1|          3.0|         1|                 N|         162|         246|           1|       18.4|  1.0|    0.5|       1.5|         0.0|                  1.0|        24.9|                 2.5|        0.0|\n",
      "|       1| 2024-10-01 00:12:20|  2024-10-01 00:25:25|              1|          2.2|         1|                 N|          48|         236|           1|       14.2|  3.5|    0.5|       3.8|         0.0|                  1.0|        23.0|                 2.5|        0.0|\n",
      "|       1| 2024-10-01 00:04:46|  2024-10-01 00:13:52|              1|          2.7|         1|                 N|         142|          24|           1|       13.5|  3.5|    0.5|       3.7|         0.0|                  1.0|        22.2|                 2.5|        0.0|\n",
      "|       1| 2024-10-01 00:12:10|  2024-10-01 00:23:01|              1|          3.1|         1|                 N|         233|          75|           1|       14.2|  3.5|    0.5|       2.0|         0.0|                  1.0|        21.2|                 2.5|        0.0|\n",
      "|       1| 2024-10-01 00:30:22|  2024-10-01 00:30:39|              1|          0.0|         1|                 N|         262|         262|           3|        3.0|  3.5|    0.5|       0.0|         0.0|                  1.0|         8.0|                 2.5|        0.0|\n",
      "+--------+--------------------+---------------------+---------------+-------------+----------+------------------+------------+------------+------------+-----------+-----+-------+----------+------------+---------------------+------------+--------------------+-----------+\n",
      "only showing top 5 rows\n",
      "\n"
     ]
    }
   ],
   "source": [
    "df.show(5)"
   ]
  },
  {
   "cell_type": "code",
   "execution_count": 64,
   "id": "c02c1a95-9d00-455d-9905-ecc8803bdc9b",
   "metadata": {},
   "outputs": [
    {
     "data": {
      "text/plain": [
       "StructType([StructField('VendorID', IntegerType(), True), StructField('tpep_pickup_datetime', TimestampType(), True), StructField('tpep_dropoff_datetime', TimestampType(), True), StructField('passenger_count', LongType(), True), StructField('trip_distance', DoubleType(), True), StructField('RatecodeID', LongType(), True), StructField('store_and_fwd_flag', StringType(), True), StructField('PULocationID', IntegerType(), True), StructField('DOLocationID', IntegerType(), True), StructField('payment_type', LongType(), True), StructField('fare_amount', DoubleType(), True), StructField('extra', DoubleType(), True), StructField('mta_tax', DoubleType(), True), StructField('tip_amount', DoubleType(), True), StructField('tolls_amount', DoubleType(), True), StructField('improvement_surcharge', DoubleType(), True), StructField('total_amount', DoubleType(), True), StructField('congestion_surcharge', DoubleType(), True), StructField('Airport_fee', DoubleType(), True)])"
      ]
     },
     "execution_count": 64,
     "metadata": {},
     "output_type": "execute_result"
    }
   ],
   "source": [
    "df.schema"
   ]
  },
  {
   "cell_type": "code",
   "execution_count": 65,
   "id": "65a27a2d-520e-460a-92ad-22c99969cda8",
   "metadata": {},
   "outputs": [
    {
     "name": "stdout",
     "output_type": "stream",
     "text": [
      "root\n",
      " |-- VendorID: integer (nullable = true)\n",
      " |-- tpep_pickup_datetime: timestamp (nullable = true)\n",
      " |-- tpep_dropoff_datetime: timestamp (nullable = true)\n",
      " |-- passenger_count: long (nullable = true)\n",
      " |-- trip_distance: double (nullable = true)\n",
      " |-- RatecodeID: long (nullable = true)\n",
      " |-- store_and_fwd_flag: string (nullable = true)\n",
      " |-- PULocationID: integer (nullable = true)\n",
      " |-- DOLocationID: integer (nullable = true)\n",
      " |-- payment_type: long (nullable = true)\n",
      " |-- fare_amount: double (nullable = true)\n",
      " |-- extra: double (nullable = true)\n",
      " |-- mta_tax: double (nullable = true)\n",
      " |-- tip_amount: double (nullable = true)\n",
      " |-- tolls_amount: double (nullable = true)\n",
      " |-- improvement_surcharge: double (nullable = true)\n",
      " |-- total_amount: double (nullable = true)\n",
      " |-- congestion_surcharge: double (nullable = true)\n",
      " |-- Airport_fee: double (nullable = true)\n",
      "\n"
     ]
    }
   ],
   "source": [
    "df.printSchema()"
   ]
  },
  {
   "cell_type": "code",
   "execution_count": 22,
   "id": "cf811899-062c-4095-98f0-1e6ad36e1183",
   "metadata": {},
   "outputs": [],
   "source": [
    "df = df.repartition(4)"
   ]
  },
  {
   "cell_type": "code",
   "execution_count": 24,
   "id": "57af9315-3d51-432f-bcc6-bf8bbdee762b",
   "metadata": {},
   "outputs": [
    {
     "name": "stderr",
     "output_type": "stream",
     "text": [
      "                                                                                \r"
     ]
    }
   ],
   "source": [
    "df.write.parquet('data/pq/yellow/2024/10/')"
   ]
  },
  {
   "cell_type": "code",
   "execution_count": 11,
   "id": "1ed88813-c6c4-4b10-892d-bec9458f7aca",
   "metadata": {},
   "outputs": [
    {
     "name": "stdout",
     "output_type": "stream",
     "text": [
      "total 97M\n",
      "-rw-r--r-- 1 sidd4ml sidd4ml   0 Mar 22 22:32 _SUCCESS\n",
      "-rw-r--r-- 1 sidd4ml sidd4ml 25M Mar 22 22:32 part-00000-1e1e956c-9f2d-4640-94d4-2b7502213f9c-c000.snappy.parquet\n",
      "-rw-r--r-- 1 sidd4ml sidd4ml 25M Mar 22 22:32 part-00001-1e1e956c-9f2d-4640-94d4-2b7502213f9c-c000.snappy.parquet\n",
      "-rw-r--r-- 1 sidd4ml sidd4ml 25M Mar 22 22:32 part-00002-1e1e956c-9f2d-4640-94d4-2b7502213f9c-c000.snappy.parquet\n",
      "-rw-r--r-- 1 sidd4ml sidd4ml 25M Mar 22 22:32 part-00003-1e1e956c-9f2d-4640-94d4-2b7502213f9c-c000.snappy.parquet\n"
     ]
    }
   ],
   "source": [
    "!ls -lh data/pq/yellow/2024/10/"
   ]
  },
  {
   "cell_type": "code",
   "execution_count": 66,
   "id": "80cd06b7-8300-45a4-b795-71dc5427d4bc",
   "metadata": {},
   "outputs": [],
   "source": [
    "df.registerTempTable('taxi_trips')"
   ]
  },
  {
   "cell_type": "code",
   "execution_count": 67,
   "id": "3db523d0-e83d-4a78-b1cf-54c1e0e1f7cb",
   "metadata": {},
   "outputs": [
    {
     "name": "stdout",
     "output_type": "stream",
     "text": [
      "+--------+\n",
      "|count(1)|\n",
      "+--------+\n",
      "|  128893|\n",
      "+--------+\n",
      "\n"
     ]
    }
   ],
   "source": [
    "spark.sql(\"\"\"\n",
    "SELECT \n",
    "    COUNT(*) \n",
    "FROM \n",
    "   taxi_trips\n",
    "WHERE \n",
    "   tpep_pickup_datetime BETWEEN '2024-10-15 00:00:00' AND '2024-10-15 23:59:59'\n",
    "\"\"\").show()"
   ]
  },
  {
   "cell_type": "code",
   "execution_count": 68,
   "id": "0c5f7535-cf07-4df9-8044-852f1b3e3f1c",
   "metadata": {},
   "outputs": [
    {
     "name": "stderr",
     "output_type": "stream",
     "text": [
      "[Stage 83:=============================>                            (4 + 4) / 8]\r"
     ]
    },
    {
     "name": "stdout",
     "output_type": "stream",
     "text": [
      "+-------------------+\n",
      "|trip_duration_hours|\n",
      "+-------------------+\n",
      "|         162.617778|\n",
      "|         143.325000|\n",
      "|         137.760556|\n",
      "|         114.834722|\n",
      "|          89.898333|\n",
      "+-------------------+\n",
      "only showing top 5 rows\n",
      "\n"
     ]
    },
    {
     "name": "stderr",
     "output_type": "stream",
     "text": [
      "                                                                                \r"
     ]
    }
   ],
   "source": [
    "spark.sql(\"\"\"\n",
    "SELECT \n",
    "    (unix_timestamp(tpep_dropoff_datetime) - unix_timestamp(tpep_pickup_datetime)) / 3600.0 \n",
    "        AS trip_duration_hours\n",
    "FROM \n",
    "    taxi_trips \n",
    "ORDER BY \n",
    "    trip_duration_hours DESC\n",
    "\"\"\").show(5)"
   ]
  },
  {
   "cell_type": "code",
   "execution_count": 45,
   "id": "b508e345-9c3e-4df7-bd87-9cf285848919",
   "metadata": {},
   "outputs": [],
   "source": [
    "!mkdir -p data/raw/zones"
   ]
  },
  {
   "cell_type": "code",
   "execution_count": 46,
   "id": "202034df-fbd8-4694-82e1-27e593148a65",
   "metadata": {},
   "outputs": [
    {
     "name": "stdout",
     "output_type": "stream",
     "text": [
      "--2025-03-23 03:58:51--  https://d37ci6vzurychx.cloudfront.net/misc/taxi_zone_lookup.csv\n",
      "Resolving d37ci6vzurychx.cloudfront.net (d37ci6vzurychx.cloudfront.net)... 18.154.99.220, 18.154.99.177, 18.154.99.47, ...\n",
      "Connecting to d37ci6vzurychx.cloudfront.net (d37ci6vzurychx.cloudfront.net)|18.154.99.220|:443... connected.\n",
      "HTTP request sent, awaiting response... 200 OK\n",
      "Length: 12331 (12K) [text/csv]\n",
      "Saving to: ‘data/raw/zones/taxi_zone_lookup.csv’\n",
      "\n",
      "data/raw/zones/taxi 100%[===================>]  12.04K  --.-KB/s    in 0.001s  \n",
      "\n",
      "2025-03-23 03:58:51 (15.0 MB/s) - ‘data/raw/zones/taxi_zone_lookup.csv’ saved [12331/12331]\n",
      "\n"
     ]
    }
   ],
   "source": [
    "!wget https://d37ci6vzurychx.cloudfront.net/misc/taxi_zone_lookup.csv -O data/raw/zones/taxi_zone_lookup.csv"
   ]
  },
  {
   "cell_type": "code",
   "execution_count": 53,
   "id": "c45d8f59-d399-4786-b752-c0b120e696a6",
   "metadata": {},
   "outputs": [],
   "source": [
    "df_zones = spark.read\\\n",
    ".option(\"header\", \"true\") \\\n",
    ".csv('data/raw/zones/taxi_zone_lookup.csv')"
   ]
  },
  {
   "cell_type": "code",
   "execution_count": 54,
   "id": "32e9c66c-2783-4063-b8c7-0411a869195f",
   "metadata": {},
   "outputs": [
    {
     "data": {
      "text/plain": [
       "StructType([StructField('LocationID', StringType(), True), StructField('Borough', StringType(), True), StructField('Zone', StringType(), True), StructField('service_zone', StringType(), True)])"
      ]
     },
     "execution_count": 54,
     "metadata": {},
     "output_type": "execute_result"
    }
   ],
   "source": [
    "df_zones.schema"
   ]
  },
  {
   "cell_type": "code",
   "execution_count": 55,
   "id": "f8823131-7bbd-4f16-ba0d-52817c66fed2",
   "metadata": {},
   "outputs": [
    {
     "name": "stdout",
     "output_type": "stream",
     "text": [
      "root\n",
      " |-- LocationID: string (nullable = true)\n",
      " |-- Borough: string (nullable = true)\n",
      " |-- Zone: string (nullable = true)\n",
      " |-- service_zone: string (nullable = true)\n",
      "\n"
     ]
    }
   ],
   "source": [
    "df_zones.printSchema()"
   ]
  },
  {
   "cell_type": "code",
   "execution_count": 63,
   "id": "e1291a26-4704-42f0-87f8-204eb80b20fe",
   "metadata": {},
   "outputs": [
    {
     "name": "stdout",
     "output_type": "stream",
     "text": [
      "+----------+-------------+--------------------+------------+\n",
      "|LocationID|      Borough|                Zone|service_zone|\n",
      "+----------+-------------+--------------------+------------+\n",
      "|         1|          EWR|      Newark Airport|         EWR|\n",
      "|         2|       Queens|         Jamaica Bay|   Boro Zone|\n",
      "|         3|        Bronx|Allerton/Pelham G...|   Boro Zone|\n",
      "|         4|    Manhattan|       Alphabet City| Yellow Zone|\n",
      "|         5|Staten Island|       Arden Heights|   Boro Zone|\n",
      "+----------+-------------+--------------------+------------+\n",
      "only showing top 5 rows\n",
      "\n"
     ]
    }
   ],
   "source": [
    "df_zones.show(5)"
   ]
  },
  {
   "cell_type": "code",
   "execution_count": 70,
   "id": "08558184-2d88-4622-b855-3ea177369884",
   "metadata": {},
   "outputs": [],
   "source": [
    "df_zones.registerTempTable('taxi_zone_lookup')"
   ]
  },
  {
   "cell_type": "code",
   "execution_count": 73,
   "id": "866bdc2b-0126-4c0f-b2d6-01f10121cfe8",
   "metadata": {},
   "outputs": [
    {
     "name": "stdout",
     "output_type": "stream",
     "text": [
      "+------------+--------------------+----------+\n",
      "|PULocationID|                Zone|trip_count|\n",
      "+------------+--------------------+----------+\n",
      "|         105|Governor's Island...|         1|\n",
      "|           5|       Arden Heights|         2|\n",
      "|         199|       Rikers Island|         2|\n",
      "|         111| Green-Wood Cemetery|         3|\n",
      "|           2|         Jamaica Bay|         3|\n",
      "+------------+--------------------+----------+\n",
      "only showing top 5 rows\n",
      "\n"
     ]
    }
   ],
   "source": [
    "spark.sql(\"\"\"\n",
    "SELECT \n",
    "    a.PULocationID, \n",
    "    b.Zone,\n",
    "    COUNT(*) AS trip_count\n",
    "FROM \n",
    "    taxi_trips a\n",
    "INNER JOIN \n",
    "    taxi_zone_lookup b\n",
    "    ON a.PULocationID = b.LocationID\n",
    "GROUP BY \n",
    "    a.PULocationID, \n",
    "    b.Zone\n",
    "ORDER BY \n",
    "    trip_count ASC\n",
    "\"\"\").show(5)"
   ]
  },
  {
   "cell_type": "markdown",
   "id": "15300f5c-38fc-4e1e-80a6-02dd04c7606a",
   "metadata": {},
   "source": [
    "#### ALternative Way"
   ]
  },
  {
   "cell_type": "code",
   "execution_count": 74,
   "id": "370f1e7e-6b5e-4f0b-89cc-cfa0545443dd",
   "metadata": {},
   "outputs": [],
   "source": [
    "from pyspark.sql import functions as F"
   ]
  },
  {
   "cell_type": "code",
   "execution_count": 75,
   "id": "c2f1ac22-3fa9-418c-bbb7-9d08aec9d449",
   "metadata": {},
   "outputs": [],
   "source": [
    "# Join on PULocationID (from trips) = LocationID (from zones)\n",
    "df_join = df.join(\n",
    "    df_zones, \n",
    "    df.PULocationID == df_zones.LocationID, \n",
    "    how='inner'\n",
    ")"
   ]
  },
  {
   "cell_type": "code",
   "execution_count": 77,
   "id": "52215688-7a4f-42d3-86be-36e64e1ec25a",
   "metadata": {},
   "outputs": [],
   "source": [
    "df_join.registerTempTable('trips_with_locationName')"
   ]
  },
  {
   "cell_type": "code",
   "execution_count": 78,
   "id": "d4deb794-08b3-4194-8a93-a238c5142d0e",
   "metadata": {},
   "outputs": [
    {
     "name": "stdout",
     "output_type": "stream",
     "text": [
      "root\n",
      " |-- VendorID: integer (nullable = true)\n",
      " |-- tpep_pickup_datetime: timestamp (nullable = true)\n",
      " |-- tpep_dropoff_datetime: timestamp (nullable = true)\n",
      " |-- passenger_count: long (nullable = true)\n",
      " |-- trip_distance: double (nullable = true)\n",
      " |-- RatecodeID: long (nullable = true)\n",
      " |-- store_and_fwd_flag: string (nullable = true)\n",
      " |-- PULocationID: integer (nullable = true)\n",
      " |-- DOLocationID: integer (nullable = true)\n",
      " |-- payment_type: long (nullable = true)\n",
      " |-- fare_amount: double (nullable = true)\n",
      " |-- extra: double (nullable = true)\n",
      " |-- mta_tax: double (nullable = true)\n",
      " |-- tip_amount: double (nullable = true)\n",
      " |-- tolls_amount: double (nullable = true)\n",
      " |-- improvement_surcharge: double (nullable = true)\n",
      " |-- total_amount: double (nullable = true)\n",
      " |-- congestion_surcharge: double (nullable = true)\n",
      " |-- Airport_fee: double (nullable = true)\n",
      " |-- LocationID: string (nullable = true)\n",
      " |-- Borough: string (nullable = true)\n",
      " |-- Zone: string (nullable = true)\n",
      " |-- service_zone: string (nullable = true)\n",
      "\n"
     ]
    }
   ],
   "source": [
    "df_join.printSchema()"
   ]
  },
  {
   "cell_type": "code",
   "execution_count": 82,
   "id": "cfd61927-d638-4f36-bdab-d17a5435f13d",
   "metadata": {},
   "outputs": [
    {
     "name": "stdout",
     "output_type": "stream",
     "text": [
      "+--------------------+----------+\n",
      "|PICKUP_LOCATION_ZONE|trip_count|\n",
      "+--------------------+----------+\n",
      "|Governor's Island...|         1|\n",
      "|       Rikers Island|         2|\n",
      "|       Arden Heights|         2|\n",
      "| Green-Wood Cemetery|         3|\n",
      "|         Jamaica Bay|         3|\n",
      "+--------------------+----------+\n",
      "only showing top 5 rows\n",
      "\n"
     ]
    }
   ],
   "source": [
    "spark.sql(\"\"\"\n",
    "SELECT \n",
    "    Zone AS PICKUP_LOCATION_ZONE,\n",
    "    COUNT(*) AS trip_count\n",
    "FROM \n",
    "trips_with_locationName\n",
    "GROUP BY PICKUP_LOCATION_ZONE\n",
    "ORDER BY trip_count ASC\n",
    "\"\"\").show(5)"
   ]
  },
  {
   "cell_type": "code",
   "execution_count": null,
   "id": "5afed5f9-5fe7-4a46-a49d-62dcfefeba6e",
   "metadata": {},
   "outputs": [],
   "source": []
  }
 ],
 "metadata": {
  "kernelspec": {
   "display_name": "Python 3 (ipykernel)",
   "language": "python",
   "name": "python3"
  },
  "language_info": {
   "codemirror_mode": {
    "name": "ipython",
    "version": 3
   },
   "file_extension": ".py",
   "mimetype": "text/x-python",
   "name": "python",
   "nbconvert_exporter": "python",
   "pygments_lexer": "ipython3",
   "version": "3.12.2"
  }
 },
 "nbformat": 4,
 "nbformat_minor": 5
}
